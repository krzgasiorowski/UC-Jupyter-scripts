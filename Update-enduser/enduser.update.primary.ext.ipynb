{
 "cells": [
  {
   "cell_type": "code",
   "execution_count": 1,
   "id": "660033d7",
   "metadata": {},
   "outputs": [],
   "source": [
    "import numpy as np #mathematical and logical operations on Arrays\n",
    "import pandas as pd\n",
    "pd.options.display.max_rows = 12\n",
    "pd.options.display.encoding = 'UTF-8'\n",
    "\n",
    "import re #import regular expression\n",
    "from copy import copy\n",
    "import logging\n",
    "import logger\n",
    "import csv\n",
    "import warnings\n",
    "warnings.simplefilter(action='ignore', category=pd.errors.PerformanceWarning)\n",
    "from pprint import pprint\n",
    "\n",
    "\n",
    "logger = logging.getLogger(__name__)\n",
    "logger.setLevel(logging.INFO)\n",
    "rootdir = './Dane/'\n",
    "inputFileName = 'enduser.csv'\n",
    "outputFileName = 'enusers-do-importu3.csv'"
   ]
  },
  {
   "cell_type": "code",
   "execution_count": 2,
   "id": "d7610c54",
   "metadata": {},
   "outputs": [],
   "source": [
    "class StringConverter(dict):\n",
    "    def __contains__(self, item):\n",
    "        return True\n",
    "\n",
    "    def __getitem__(self, item):\n",
    "        return str\n",
    "\n",
    "    def get(self, default=None):\n",
    "        return str"
   ]
  },
  {
   "cell_type": "code",
   "execution_count": 3,
   "id": "02a51f8f",
   "metadata": {},
   "outputs": [],
   "source": [
    "df = pd.read_csv(rootdir+inputFileName, converters=StringConverter())"
   ]
  },
  {
   "cell_type": "code",
   "execution_count": 4,
   "id": "fa471f56",
   "metadata": {},
   "outputs": [],
   "source": [
    "\n",
    "#columnsList= ['USER ID','DIRECTORY PLUGIN CONFIG','DISPLAY NAME','DEVICE NAME 1','PRIMARY EXTENSION 1','TYPE PATTERN USAGE 1','PRIMARY EXTENSION 2','TYPE PATTERN USAGE 2']\n",
    "columnsList= ['USER ID','PRIMARY EXTENSION 1','TYPE PATTERN USAGE 1','PRIMARY EXTENSION 2','TYPE PATTERN USAGE 2']"
   ]
  },
  {
   "cell_type": "code",
   "execution_count": 5,
   "id": "016451da",
   "metadata": {},
   "outputs": [],
   "source": [
    "#CZYSTY PLIK CSV\n",
    "#with pd.option_context('display.max_rows', 10, 'display.max_columns', None):display(df[columnsList])"
   ]
  },
  {
   "cell_type": "code",
   "execution_count": 6,
   "id": "432dcf82",
   "metadata": {},
   "outputs": [],
   "source": [
    "#USUNIECIE REKORDOW BEZ DEVICE\n",
    "indexList = df[df['DEVICE NAME 1'] == \"\" ].index\n",
    "df.drop(indexList , inplace=True)\n",
    "\n",
    "#with pd.option_context('display.max_rows', 10, 'display.max_columns', None):display(df[columnsList])"
   ]
  },
  {
   "cell_type": "code",
   "execution_count": 7,
   "id": "98e51820",
   "metadata": {},
   "outputs": [],
   "source": [
    "#SORTOWANIE\n",
    "\n",
    "df=df.sort_values(by='USER ID',axis=0, ascending=True, inplace=False, na_position='first', ignore_index=True,key=lambda col: col.str.lower())\n",
    "#with pd.option_context('display.max_rows', 10, 'display.max_columns', None):display(df[columnsList])"
   ]
  },
  {
   "cell_type": "code",
   "execution_count": 8,
   "id": "a03e5491",
   "metadata": {},
   "outputs": [],
   "source": [
    "#usuniecie wszyskich kolumn oprócz wskaznych\n",
    "\n",
    "columnsList= ['USER ID','PRIMARY EXTENSION 1','TYPE PATTERN USAGE 1','PRIMARY EXTENSION 2','TYPE PATTERN USAGE 2']\n",
    "\n",
    "df.drop(df.columns.difference(columnsList), axis=1, inplace=True)"
   ]
  },
  {
   "cell_type": "code",
   "execution_count": 9,
   "id": "ce4bd1c8",
   "metadata": {},
   "outputs": [],
   "source": [
    "#wyswietlenie do weryfikacji\n",
    "#with pd.option_context('display.max_rows', None, 'display.max_columns', None):display(df)"
   ]
  },
  {
   "cell_type": "code",
   "execution_count": 10,
   "id": "518ec8b0",
   "metadata": {},
   "outputs": [],
   "source": [
    "#zapisanie pliku\n",
    "df.to_csv(rootdir+outputFileName, index = False)"
   ]
  }
 ],
 "metadata": {
  "kernelspec": {
   "display_name": "Python 3 (ipykernel)",
   "language": "python",
   "name": "python3"
  },
  "language_info": {
   "codemirror_mode": {
    "name": "ipython",
    "version": 3
   },
   "file_extension": ".py",
   "mimetype": "text/x-python",
   "name": "python",
   "nbconvert_exporter": "python",
   "pygments_lexer": "ipython3",
   "version": "3.9.7"
  }
 },
 "nbformat": 4,
 "nbformat_minor": 5
}
