{
 "cells": [
  {
   "cell_type": "code",
   "execution_count": 1,
   "id": "660033d7",
   "metadata": {},
   "outputs": [],
   "source": [
    "import numpy as np #mathematical and logical operations on Arrays\n",
    "import pandas as pd\n",
    "pd.options.display.max_rows = 12\n",
    "pd.options.display.encoding = 'UTF-8'\n",
    "#pd.set_option('display.max_rows', 10)\n",
    "\n",
    "import re #import regular expression\n",
    "from copy import copy\n",
    "import logging\n",
    "import logger\n",
    "import csv\n",
    "import warnings\n",
    "warnings.simplefilter(action='ignore', category=pd.errors.PerformanceWarning)\n",
    "from pprint import pprint\n",
    "\n",
    "\n",
    "logger = logging.getLogger(__name__)\n",
    "logger.setLevel(logging.INFO)\n",
    "rootdir = './Dane/'\n",
    "inputFileName = 'deviceprofile2.csv'\n",
    "outputbaseFileName = 'CSF.base.csv'\n",
    "outputFileName = 'CSFwithOwnerID-do-importu5.csv'"
   ]
  },
  {
   "cell_type": "code",
   "execution_count": 2,
   "id": "d7610c54",
   "metadata": {},
   "outputs": [],
   "source": [
    "class StringConverter(dict):\n",
    "    def __contains__(self, item):\n",
    "        return True\n",
    "\n",
    "    def __getitem__(self, item):\n",
    "        return str\n",
    "\n",
    "    def get(self, default=None):\n",
    "        return str"
   ]
  },
  {
   "cell_type": "code",
   "execution_count": 3,
   "id": "02a51f8f",
   "metadata": {},
   "outputs": [],
   "source": [
    "df = pd.read_csv(rootdir+inputFileName, converters=StringConverter())\n",
    "Phonedf = pd.read_csv(rootdir+outputbaseFileName, converters=StringConverter())"
   ]
  },
  {
   "cell_type": "code",
   "execution_count": 4,
   "id": "80cf0102",
   "metadata": {},
   "outputs": [],
   "source": [
    "columnsList=['Device Profile Name','Description','Alerting Name 1','ASCII Alerting Name 1','Directory Number 1']"
   ]
  },
  {
   "cell_type": "code",
   "execution_count": 5,
   "id": "016451da",
   "metadata": {},
   "outputs": [],
   "source": [
    "#CZYSTY PLIK CSV\n",
    "#with pd.option_context('display.max_rows', 10, 'display.max_columns', None):display(df[columnsList])"
   ]
  },
  {
   "cell_type": "code",
   "execution_count": 6,
   "id": "432dcf82",
   "metadata": {},
   "outputs": [],
   "source": [
    "#USUNIECIE REKORDOW BEZ DN\n",
    "indexList = df[df['Directory Number 1'] == \"\" ].index\n",
    "df.drop(indexList , inplace=True)\n",
    "\n",
    "#with pd.option_context('display.max_rows', None, 'display.max_columns', None): display(df[columnsList])"
   ]
  },
  {
   "cell_type": "code",
   "execution_count": 7,
   "id": "98e51820",
   "metadata": {},
   "outputs": [],
   "source": [
    "#SORTOWANIE\n",
    "\n",
    "df=df.sort_values(by='Device Profile Name',axis=0, ascending=True, inplace=False, na_position='first', ignore_index=True,key=lambda col: col.str.lower())\n",
    "#with pd.option_context('display.max_rows', None, 'display.max_columns', None):    display(df[columnsList])"
   ]
  },
  {
   "cell_type": "code",
   "execution_count": 8,
   "id": "b9c7e480",
   "metadata": {},
   "outputs": [],
   "source": [
    "#przekopiowanie indexow \n",
    "Phonedf=df[[]].copy()"
   ]
  },
  {
   "cell_type": "code",
   "execution_count": 9,
   "id": "04199d79",
   "metadata": {},
   "outputs": [],
   "source": [
    "#kopiowanie kolumn do Phonedf\n",
    "Phonedf['DEVICE NAME'] ='CSF' + df['Device Profile Name'].astype(str)\n",
    "Phonedf['Device Type'] ='Cisco Unified Client Services Framework'\n",
    "Phonedf['DESCRIPTION'] = df['Description']\n",
    "Phonedf['DIRECTORY NUMBER 1'] = df['Directory Number 1']\n",
    "Phonedf['Route Partition 1'] = 'IPPHONE'\n",
    "Phonedf['LINE DESCRIPTION 1'] = df['Description']\n",
    "Phonedf['ALERTING NAME 1'] = df['Alerting Name 1']\n",
    "Phonedf['ASCII ALERTING NAME 1'] = df['ASCII Alerting Name 1']\n",
    "Phonedf['DISPLAY 1'] = df['Alerting Name 1']\n",
    "Phonedf['ASCII DISPLAY 1'] = df['ASCII Alerting Name 1']\n",
    "Phonedf['OWNER USER ID']=df['Device Profile Name']\n",
    "Phonedf['User ID 1']=df['Device Profile Name']\n",
    "Phonedf['Device Protocol']='SIP'\n",
    "Phonedf['Device Security Profile']='Cisco Unified Client Services Framework - Standard SIP Non-Secure Profile'\n",
    "Phonedf['SIP Profile']='Standard SIP Profile'\n",
    "Phonedf['Phone Button Template']='Standard Client Services Framework'\n",
    "Phonedf['MLPP Indication']='Off'\n",
    "Phonedf['MLPP Preemption']='Disabled'\n",
    "Phonedf['Device Pool']='Default'"
   ]
  },
  {
   "cell_type": "code",
   "execution_count": 10,
   "id": "7bc3128b",
   "metadata": {},
   "outputs": [],
   "source": [
    "#wyswietlenie do weryfikacji\n",
    "#with pd.option_context('display.max_rows', None, 'display.max_columns', None):    display(Phonedf)"
   ]
  },
  {
   "cell_type": "code",
   "execution_count": 11,
   "id": "518ec8b0",
   "metadata": {},
   "outputs": [],
   "source": [
    "#zapisanie pliku\n",
    "Phonedf.to_csv(rootdir+outputFileName, index = False)"
   ]
  },
  {
   "cell_type": "code",
   "execution_count": null,
   "id": "b101cd95",
   "metadata": {},
   "outputs": [],
   "source": []
  }
 ],
 "metadata": {
  "kernelspec": {
   "display_name": "Python 3 (ipykernel)",
   "language": "python",
   "name": "python3"
  },
  "language_info": {
   "codemirror_mode": {
    "name": "ipython",
    "version": 3
   },
   "file_extension": ".py",
   "mimetype": "text/x-python",
   "name": "python",
   "nbconvert_exporter": "python",
   "pygments_lexer": "ipython3",
   "version": "3.9.7"
  }
 },
 "nbformat": 4,
 "nbformat_minor": 5
}
